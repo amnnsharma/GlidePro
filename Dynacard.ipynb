{
  "nbformat": 4,
  "nbformat_minor": 0,
  "metadata": {
    "colab": {
      "provenance": [],
      "authorship_tag": "ABX9TyOKcj+PqwUNBGVZbuILOthj",
      "include_colab_link": true
    },
    "kernelspec": {
      "name": "python3",
      "display_name": "Python 3"
    },
    "language_info": {
      "name": "python"
    }
  },
  "cells": [
    {
      "cell_type": "markdown",
      "metadata": {
        "id": "view-in-github",
        "colab_type": "text"
      },
      "source": [
        "<a href=\"https://colab.research.google.com/github/amnnsharma/GlidePro/blob/main/Dynacard.ipynb\" target=\"_parent\"><img src=\"https://colab.research.google.com/assets/colab-badge.svg\" alt=\"Open In Colab\"/></a>"
      ]
    },
    {
      "cell_type": "code",
      "execution_count": 1,
      "metadata": {
        "id": "rdXp95eIiCc7"
      },
      "outputs": [],
      "source": [
        "from scipy.interpolate import interp1d\n",
        "\n",
        "def fit_curve(x_data, y_data, kind='cubic'):\n",
        "    interpolated_function = interp1d(x_data, y_data, kind=kind, fill_value=\"extrapolate\")\n",
        "    return interpolated_function"
      ]
    },
    {
      "cell_type": "code",
      "source": [
        "from google.colab import drive\n",
        "import pandas as pd\n",
        "\n",
        "# Mount Google Drive\n",
        "drive.mount('/content/drive')"
      ],
      "metadata": {
        "colab": {
          "base_uri": "https://localhost:8080/"
        },
        "id": "tmgwh3-3iitU",
        "outputId": "31d5798e-4ee2-4dca-ee99-df37287460e8"
      },
      "execution_count": 4,
      "outputs": [
        {
          "output_type": "stream",
          "name": "stdout",
          "text": [
            "Drive already mounted at /content/drive; to attempt to forcibly remount, call drive.mount(\"/content/drive\", force_remount=True).\n"
          ]
        }
      ]
    },
    {
      "cell_type": "code",
      "source": [
        "# Path to your Excel file in Google Drive\n",
        "file_path = '/content/drive/My Drive/deviation_data.xlsx'\n",
        "\n",
        "# Load Excel file into a DataFrame\n",
        "df = pd.read_excel(file_path)\n",
        "\n",
        "# Display the loaded DataFrame\n",
        "df.columns=['SN', 'MD', 'Inclination', 'Azimuth']\n",
        "df=df.drop(columns=['SN'])\n",
        "md=df['MD'].astype(float).tolist()\n",
        "inclination=df['Inclination'].astype(float).tolist()\n",
        "azimuth=df['Azimuth'].astype(float).tolist()\n",
        "#print(df)"
      ],
      "metadata": {
        "id": "1IR30LUpkm3q"
      },
      "execution_count": 22,
      "outputs": []
    },
    {
      "cell_type": "code",
      "source": [
        "import numpy as np\n",
        "import math\n",
        "\n",
        "T_s=[]\n",
        "\n",
        "for i in range(len(md)):\n",
        "  T_s.append(np.array([math.sin(math.radians(inclination[i]))*math.cos(math.radians(azimuth[i])),\n",
        "                       math.sin(math.radians(inclination[i]))*math.sin(math.radians(azimuth[i])),\n",
        "                       math.cos(math.radians(inclination[i]))]))\n"
      ],
      "metadata": {
        "id": "umTUzzQilQG2"
      },
      "execution_count": 23,
      "outputs": []
    },
    {
      "cell_type": "code",
      "source": [
        "gamma=[]\n",
        "rc=[]\n",
        "B_s=[]\n",
        "\n",
        "for i in range(len(md)-1):\n",
        "  if T_s[i+1][0]!=T_s[i][0] and T_s[i+1][1]!=T_s[i][1] and T_s[i+1][2]!=T_s[i][2]:\n",
        "    gamma_i=math.acos(np.dot(T_s[i], T_s[i+1]))\n",
        "    gamma.append(gamma_i)\n",
        "    rc.append((md[i+1]-md[i])/gamma_i)\n",
        "  else:\n",
        "    gamma.append(0)\n",
        "    rc.append(np.inf)\n",
        "\n",
        "  B_s.append(np.cross(T_s[i], T_s[i+1]))\n",
        "\n",
        "\n",
        "N_s=[]\n",
        "\n",
        "for i in range(len(md)-1):\n",
        "  if T_s[i][1]==0:\n",
        "    N_s.append(np.array([0, 1, 0]))\n",
        "  else:\n",
        "    f=(1+(T_s[i][0]/T_s[i][1])**2)**0.5\n",
        "    N_s.append(np.array([1/f, -T_s[i][0]/T_s[i][1]/f, 0]))\n"
      ],
      "metadata": {
        "id": "9vOnlmElp4pT"
      },
      "execution_count": 35,
      "outputs": []
    },
    {
      "cell_type": "code",
      "source": [
        "N_s"
      ],
      "metadata": {
        "colab": {
          "base_uri": "https://localhost:8080/"
        },
        "id": "LwlaIGzTt3cv",
        "outputId": "94b1017b-06ce-4f35-cff1-535132787e1e"
      },
      "execution_count": 38,
      "outputs": [
        {
          "output_type": "execute_result",
          "data": {
            "text/plain": [
              "[array([0, 1, 0]),\n",
              " array([0, 1, 0]),\n",
              " array([0.42261826, 0.90630779, 0.        ]),\n",
              " array([0.64278761, 0.76604444, 0.        ]),\n",
              " array([0.61566148, 0.78801075, 0.        ]),\n",
              " array([0.48480962, 0.87461971, 0.        ]),\n",
              " array([0.27563736, 0.9612617 , 0.        ]),\n",
              " array([0.2419219 , 0.97029573, 0.        ]),\n",
              " array([0.20791169, 0.9781476 , 0.        ]),\n",
              " array([0.190809  , 0.98162718, 0.        ]),\n",
              " array([0.17364818, 0.98480775, 0.        ]),\n",
              " array([0.15643447, 0.98768834, 0.        ]),\n",
              " array([0.08715574, 0.9961947 , 0.        ]),\n",
              " array([0.01745241, 0.9998477 , 0.        ]),\n",
              " array([ 0.0348995 , -0.99939083,  0.        ]),\n",
              " array([ 0.1391731 , -0.99026807,  0.        ]),\n",
              " array([ 0.18154904, -0.98338189,  0.        ]),\n",
              " array([ 0.190809  , -0.98162718,  0.        ])]"
            ]
          },
          "metadata": {},
          "execution_count": 38
        }
      ]
    },
    {
      "cell_type": "code",
      "source": [],
      "metadata": {
        "id": "tAnoegVcuvQW"
      },
      "execution_count": null,
      "outputs": []
    }
  ]
}